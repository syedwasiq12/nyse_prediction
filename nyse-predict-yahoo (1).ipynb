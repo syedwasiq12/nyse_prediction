{
 "cells": [
  {
   "cell_type": "code",
   "execution_count": 1,
   "id": "f334362c",
   "metadata": {
    "_cell_guid": "b1076dfc-b9ad-4769-8c92-a6c4dae69d19",
    "_uuid": "8f2839f25d086af736a60e9eeb907d3b93b6e0e5",
    "execution": {
     "iopub.execute_input": "2024-02-11T19:19:37.167364Z",
     "iopub.status.busy": "2024-02-11T19:19:37.166456Z",
     "iopub.status.idle": "2024-02-11T19:19:38.121829Z",
     "shell.execute_reply": "2024-02-11T19:19:38.120558Z"
    },
    "papermill": {
     "duration": 0.979021,
     "end_time": "2024-02-11T19:19:38.125157",
     "exception": false,
     "start_time": "2024-02-11T19:19:37.146136",
     "status": "completed"
    },
    "tags": []
   },
   "outputs": [],
   "source": [
    "import numpy as np\n",
    "import pandas as pd\n",
    "from matplotlib import pyplot as plt"
   ]
  },
  {
   "cell_type": "code",
   "execution_count": 2,
   "id": "512db7bc",
   "metadata": {
    "execution": {
     "iopub.execute_input": "2024-02-11T19:19:38.155231Z",
     "iopub.status.busy": "2024-02-11T19:19:38.154447Z",
     "iopub.status.idle": "2024-02-11T19:19:39.898230Z",
     "shell.execute_reply": "2024-02-11T19:19:39.897092Z"
    },
    "papermill": {
     "duration": 1.761826,
     "end_time": "2024-02-11T19:19:39.900916",
     "exception": false,
     "start_time": "2024-02-11T19:19:38.139090",
     "status": "completed"
    },
    "tags": []
   },
   "outputs": [],
   "source": [
    "df = pd.read_csv('/kaggle/input/nyse/prices-split-adjusted.csv', header = 0)"
   ]
  },
  {
   "cell_type": "code",
   "execution_count": 3,
   "id": "d7d411cb",
   "metadata": {
    "execution": {
     "iopub.execute_input": "2024-02-11T19:19:39.930005Z",
     "iopub.status.busy": "2024-02-11T19:19:39.929600Z",
     "iopub.status.idle": "2024-02-11T19:19:39.952897Z",
     "shell.execute_reply": "2024-02-11T19:19:39.951458Z"
    },
    "papermill": {
     "duration": 0.041309,
     "end_time": "2024-02-11T19:19:39.955889",
     "exception": false,
     "start_time": "2024-02-11T19:19:39.914580",
     "status": "completed"
    },
    "tags": []
   },
   "outputs": [
    {
     "data": {
      "text/html": [
       "<div>\n",
       "<style scoped>\n",
       "    .dataframe tbody tr th:only-of-type {\n",
       "        vertical-align: middle;\n",
       "    }\n",
       "\n",
       "    .dataframe tbody tr th {\n",
       "        vertical-align: top;\n",
       "    }\n",
       "\n",
       "    .dataframe thead th {\n",
       "        text-align: right;\n",
       "    }\n",
       "</style>\n",
       "<table border=\"1\" class=\"dataframe\">\n",
       "  <thead>\n",
       "    <tr style=\"text-align: right;\">\n",
       "      <th></th>\n",
       "      <th>date</th>\n",
       "      <th>symbol</th>\n",
       "      <th>open</th>\n",
       "      <th>close</th>\n",
       "      <th>low</th>\n",
       "      <th>high</th>\n",
       "      <th>volume</th>\n",
       "    </tr>\n",
       "  </thead>\n",
       "  <tbody>\n",
       "    <tr>\n",
       "      <th>0</th>\n",
       "      <td>2016-01-05</td>\n",
       "      <td>WLTW</td>\n",
       "      <td>123.430000</td>\n",
       "      <td>125.839996</td>\n",
       "      <td>122.309998</td>\n",
       "      <td>126.250000</td>\n",
       "      <td>2163600.0</td>\n",
       "    </tr>\n",
       "    <tr>\n",
       "      <th>1</th>\n",
       "      <td>2016-01-06</td>\n",
       "      <td>WLTW</td>\n",
       "      <td>125.239998</td>\n",
       "      <td>119.980003</td>\n",
       "      <td>119.940002</td>\n",
       "      <td>125.540001</td>\n",
       "      <td>2386400.0</td>\n",
       "    </tr>\n",
       "    <tr>\n",
       "      <th>2</th>\n",
       "      <td>2016-01-07</td>\n",
       "      <td>WLTW</td>\n",
       "      <td>116.379997</td>\n",
       "      <td>114.949997</td>\n",
       "      <td>114.930000</td>\n",
       "      <td>119.739998</td>\n",
       "      <td>2489500.0</td>\n",
       "    </tr>\n",
       "    <tr>\n",
       "      <th>3</th>\n",
       "      <td>2016-01-08</td>\n",
       "      <td>WLTW</td>\n",
       "      <td>115.480003</td>\n",
       "      <td>116.620003</td>\n",
       "      <td>113.500000</td>\n",
       "      <td>117.440002</td>\n",
       "      <td>2006300.0</td>\n",
       "    </tr>\n",
       "    <tr>\n",
       "      <th>4</th>\n",
       "      <td>2016-01-11</td>\n",
       "      <td>WLTW</td>\n",
       "      <td>117.010002</td>\n",
       "      <td>114.970001</td>\n",
       "      <td>114.089996</td>\n",
       "      <td>117.330002</td>\n",
       "      <td>1408600.0</td>\n",
       "    </tr>\n",
       "  </tbody>\n",
       "</table>\n",
       "</div>"
      ],
      "text/plain": [
       "         date symbol        open       close         low        high  \\\n",
       "0  2016-01-05   WLTW  123.430000  125.839996  122.309998  126.250000   \n",
       "1  2016-01-06   WLTW  125.239998  119.980003  119.940002  125.540001   \n",
       "2  2016-01-07   WLTW  116.379997  114.949997  114.930000  119.739998   \n",
       "3  2016-01-08   WLTW  115.480003  116.620003  113.500000  117.440002   \n",
       "4  2016-01-11   WLTW  117.010002  114.970001  114.089996  117.330002   \n",
       "\n",
       "      volume  \n",
       "0  2163600.0  \n",
       "1  2386400.0  \n",
       "2  2489500.0  \n",
       "3  2006300.0  \n",
       "4  1408600.0  "
      ]
     },
     "execution_count": 3,
     "metadata": {},
     "output_type": "execute_result"
    }
   ],
   "source": [
    "df.head()"
   ]
  },
  {
   "cell_type": "code",
   "execution_count": 4,
   "id": "56700b3f",
   "metadata": {
    "execution": {
     "iopub.execute_input": "2024-02-11T19:19:39.988065Z",
     "iopub.status.busy": "2024-02-11T19:19:39.987640Z",
     "iopub.status.idle": "2024-02-11T19:19:39.994867Z",
     "shell.execute_reply": "2024-02-11T19:19:39.993862Z"
    },
    "papermill": {
     "duration": 0.02677,
     "end_time": "2024-02-11T19:19:39.997324",
     "exception": false,
     "start_time": "2024-02-11T19:19:39.970554",
     "status": "completed"
    },
    "tags": []
   },
   "outputs": [
    {
     "data": {
      "text/plain": [
       "(851264, 7)"
      ]
     },
     "execution_count": 4,
     "metadata": {},
     "output_type": "execute_result"
    }
   ],
   "source": [
    "df.shape"
   ]
  },
  {
   "cell_type": "code",
   "execution_count": 5,
   "id": "6fdac14a",
   "metadata": {
    "execution": {
     "iopub.execute_input": "2024-02-11T19:19:40.029086Z",
     "iopub.status.busy": "2024-02-11T19:19:40.028697Z",
     "iopub.status.idle": "2024-02-11T19:19:40.120699Z",
     "shell.execute_reply": "2024-02-11T19:19:40.119251Z"
    },
    "papermill": {
     "duration": 0.11098,
     "end_time": "2024-02-11T19:19:40.123842",
     "exception": false,
     "start_time": "2024-02-11T19:19:40.012862",
     "status": "completed"
    },
    "tags": []
   },
   "outputs": [
    {
     "data": {
      "text/plain": [
       "array(['WLTW', 'A', 'AAL', 'AAP', 'AAPL', 'ABC', 'ABT', 'ACN', 'ADBE',\n",
       "       'ADI', 'ADM', 'ADP', 'ADS', 'ADSK', 'AEE', 'AEP', 'AES', 'AET',\n",
       "       'AFL', 'AGN', 'AIG', 'AIZ', 'AJG', 'AKAM', 'ALB', 'ALK', 'ALL',\n",
       "       'ALXN', 'AMAT', 'AME', 'AMG', 'AMGN', 'AMP', 'AMT', 'AMZN', 'AN',\n",
       "       'ANTM', 'AON', 'APA', 'APC', 'APD', 'APH', 'ARNC', 'ATVI', 'AVB',\n",
       "       'AVGO', 'AVY', 'AWK', 'AXP', 'AYI', 'AZO', 'BA', 'BAC', 'BAX',\n",
       "       'BBBY', 'BBT', 'BBY', 'BCR', 'BDX', 'BEN', 'BHI', 'BIIB', 'BK',\n",
       "       'BLK', 'BLL', 'BMY', 'BSX', 'BWA', 'BXP', 'C', 'CA', 'CAG', 'CAH',\n",
       "       'CAT', 'CB', 'CBG', 'CBS', 'CCI', 'CCL', 'CELG', 'CERN', 'CF',\n",
       "       'CHD', 'CHK', 'CHRW', 'CI', 'CINF', 'CL', 'CLX', 'CMA', 'CMCSA',\n",
       "       'CME', 'CMG', 'CMI', 'CMS', 'CNC', 'CNP', 'COF', 'COG', 'COH',\n",
       "       'COL', 'COO', 'COP', 'COST', 'CPB', 'CRM', 'CSCO', 'CSX', 'CTAS',\n",
       "       'CTL', 'CTSH', 'CTXS', 'CVS', 'CVX', 'CXO', 'D', 'DAL', 'DD', 'DE',\n",
       "       'DFS', 'DG', 'DGX', 'DHI', 'DHR', 'DIS', 'DISCA', 'DISCK', 'DLR',\n",
       "       'DLTR', 'DNB', 'DOV', 'DOW', 'DPS', 'DRI', 'DTE', 'DUK', 'DVA',\n",
       "       'DVN', 'EA', 'EBAY', 'ECL', 'ED', 'EFX', 'EIX', 'EL', 'EMN', 'EMR',\n",
       "       'ENDP', 'EOG', 'EQIX', 'EQR', 'EQT', 'ES', 'ESRX', 'ESS', 'ETFC',\n",
       "       'ETN', 'ETR', 'EW', 'EXC', 'EXPD', 'EXPE', 'EXR', 'F', 'FAST',\n",
       "       'FCX', 'FDX', 'FE', 'FFIV', 'FIS', 'FISV', 'FITB', 'FL', 'FLIR',\n",
       "       'FLR', 'FLS', 'FMC', 'FOX', 'FOXA', 'FRT', 'FSLR', 'FTI', 'FTR',\n",
       "       'GD', 'GE', 'GGP', 'GILD', 'GIS', 'GLW', 'GOOG', 'GOOGL', 'GPC',\n",
       "       'GPN', 'GPS', 'GRMN', 'GS', 'GT', 'GWW', 'HAL', 'HAR', 'HAS',\n",
       "       'HBAN', 'HBI', 'HCN', 'HCP', 'HD', 'HES', 'HIG', 'HOG', 'HOLX',\n",
       "       'HON', 'HP', 'HPQ', 'HRB', 'HRL', 'HRS', 'HSIC', 'HST', 'HSY',\n",
       "       'HUM', 'IBM', 'ICE', 'IDXX', 'IFF', 'ILMN', 'INTC', 'INTU', 'IP',\n",
       "       'IPG', 'IR', 'IRM', 'ISRG', 'ITW', 'IVZ', 'JBHT', 'JCI', 'JEC',\n",
       "       'JNJ', 'JNPR', 'JPM', 'JWN', 'K', 'KEY', 'KIM', 'KLAC', 'KMB',\n",
       "       'KMX', 'KO', 'KR', 'KSS', 'KSU', 'L', 'LB', 'LEG', 'LEN', 'LH',\n",
       "       'LKQ', 'LLL', 'LLTC', 'LLY', 'LMT', 'LNC', 'LNT', 'LOW', 'LRCX',\n",
       "       'LUK', 'LUV', 'LVLT', 'M', 'MA', 'MAA', 'MAC', 'MAR', 'MAS', 'MAT',\n",
       "       'MCD', 'MCHP', 'MCK', 'MCO', 'MDLZ', 'MDT', 'MET', 'MHK', 'MJN',\n",
       "       'MKC', 'MLM', 'MMC', 'MMM', 'MNST', 'MO', 'MON', 'MOS', 'MRK',\n",
       "       'MRO', 'MSFT', 'MSI', 'MTB', 'MTD', 'MU', 'MUR', 'MYL', 'NBL',\n",
       "       'NDAQ', 'NEE', 'NEM', 'NFLX', 'NFX', 'NI', 'NKE', 'NOC', 'NOV',\n",
       "       'NRG', 'NSC', 'NTAP', 'NTRS', 'NUE', 'NVDA', 'NWL', 'O', 'OKE',\n",
       "       'OMC', 'ORCL', 'ORLY', 'OXY', 'PAYX', 'PBCT', 'PBI', 'PCAR', 'PCG',\n",
       "       'PCLN', 'PDCO', 'PEG', 'PEP', 'PFE', 'PFG', 'PG', 'PGR', 'PH',\n",
       "       'PHM', 'PKI', 'PLD', 'PM', 'PNC', 'PNR', 'PNW', 'PPG', 'PPL',\n",
       "       'PRGO', 'PRU', 'PSA', 'PVH', 'PWR', 'PX', 'PXD', 'QCOM', 'R',\n",
       "       'RAI', 'RCL', 'REGN', 'RF', 'RHI', 'RHT', 'RIG', 'RL', 'ROK',\n",
       "       'ROP', 'ROST', 'RRC', 'RSG', 'RTN', 'SBUX', 'SCG', 'SCHW', 'SE',\n",
       "       'SEE', 'SHW', 'SIG', 'SJM', 'SLB', 'SLG', 'SNA', 'SNI', 'SO',\n",
       "       'SPG', 'SPGI', 'SPLS', 'SRCL', 'SRE', 'STI', 'STT', 'STX', 'STZ',\n",
       "       'SWK', 'SWKS', 'SWN', 'SYK', 'SYMC', 'SYY', 'T', 'TAP', 'TDC',\n",
       "       'TEL', 'TGNA', 'TGT', 'TIF', 'TJX', 'TMK', 'TMO', 'TROW', 'TRV',\n",
       "       'TSCO', 'TSN', 'TSO', 'TSS', 'TWX', 'TXN', 'TXT', 'UAA', 'UAL',\n",
       "       'UDR', 'UHS', 'ULTA', 'UNH', 'UNM', 'UNP', 'UPS', 'URBN', 'URI',\n",
       "       'USB', 'UTX', 'V', 'VAR', 'VFC', 'VIAB', 'VLO', 'VMC', 'VNO',\n",
       "       'VRSK', 'VRSN', 'VRTX', 'VTR', 'VZ', 'WAT', 'WBA', 'WDC', 'WEC',\n",
       "       'WFC', 'WFM', 'WHR', 'WM', 'WMB', 'WMT', 'WU', 'WY', 'WYN', 'WYNN',\n",
       "       'XEC', 'XEL', 'XL', 'XLNX', 'XOM', 'XRAY', 'XRX', 'YHOO', 'YUM',\n",
       "       'ZBH', 'ZION', 'AIV', 'CHTR', 'LYB', 'GM', 'ABBV', 'DLPH', 'FB',\n",
       "       'FBHS', 'HCA', 'KMI', 'KORS', 'MPC', 'NLSN', 'PSX', 'TDG', 'TRIP',\n",
       "       'XYL', 'ZTS', 'COTY', 'MNK', 'NWS', 'NWSA', 'EVHC', 'ALLE', 'CFG',\n",
       "       'NAVI', 'QRVO', 'SYF', 'WRK', 'KHC', 'PYPL', 'HPE', 'CSRA', 'FTV'],\n",
       "      dtype=object)"
      ]
     },
     "execution_count": 5,
     "metadata": {},
     "output_type": "execute_result"
    }
   ],
   "source": [
    "df.symbol.unique()"
   ]
  },
  {
   "cell_type": "code",
   "execution_count": 6,
   "id": "bb08f0aa",
   "metadata": {
    "execution": {
     "iopub.execute_input": "2024-02-11T19:19:40.155607Z",
     "iopub.status.busy": "2024-02-11T19:19:40.155201Z",
     "iopub.status.idle": "2024-02-11T19:19:40.338778Z",
     "shell.execute_reply": "2024-02-11T19:19:40.337221Z"
    },
    "papermill": {
     "duration": 0.202627,
     "end_time": "2024-02-11T19:19:40.341181",
     "exception": false,
     "start_time": "2024-02-11T19:19:40.138554",
     "status": "completed"
    },
    "tags": []
   },
   "outputs": [
    {
     "data": {
      "text/html": [
       "<div>\n",
       "<style scoped>\n",
       "    .dataframe tbody tr th:only-of-type {\n",
       "        vertical-align: middle;\n",
       "    }\n",
       "\n",
       "    .dataframe tbody tr th {\n",
       "        vertical-align: top;\n",
       "    }\n",
       "\n",
       "    .dataframe thead th {\n",
       "        text-align: right;\n",
       "    }\n",
       "</style>\n",
       "<table border=\"1\" class=\"dataframe\">\n",
       "  <thead>\n",
       "    <tr style=\"text-align: right;\">\n",
       "      <th></th>\n",
       "      <th>date</th>\n",
       "      <th>symbol</th>\n",
       "      <th>open</th>\n",
       "      <th>close</th>\n",
       "      <th>low</th>\n",
       "      <th>high</th>\n",
       "      <th>volume</th>\n",
       "    </tr>\n",
       "  </thead>\n",
       "  <tbody>\n",
       "    <tr>\n",
       "      <th>713</th>\n",
       "      <td>2010-01-04</td>\n",
       "      <td>YHOO</td>\n",
       "      <td>16.940001</td>\n",
       "      <td>17.100000</td>\n",
       "      <td>16.879999</td>\n",
       "      <td>17.200001</td>\n",
       "      <td>16587400.0</td>\n",
       "    </tr>\n",
       "    <tr>\n",
       "      <th>1181</th>\n",
       "      <td>2010-01-05</td>\n",
       "      <td>YHOO</td>\n",
       "      <td>17.219999</td>\n",
       "      <td>17.230000</td>\n",
       "      <td>17.000000</td>\n",
       "      <td>17.230000</td>\n",
       "      <td>11718100.0</td>\n",
       "    </tr>\n",
       "    <tr>\n",
       "      <th>1649</th>\n",
       "      <td>2010-01-06</td>\n",
       "      <td>YHOO</td>\n",
       "      <td>17.170000</td>\n",
       "      <td>17.170000</td>\n",
       "      <td>17.070000</td>\n",
       "      <td>17.299999</td>\n",
       "      <td>16422000.0</td>\n",
       "    </tr>\n",
       "    <tr>\n",
       "      <th>2117</th>\n",
       "      <td>2010-01-07</td>\n",
       "      <td>YHOO</td>\n",
       "      <td>16.809999</td>\n",
       "      <td>16.700001</td>\n",
       "      <td>16.570000</td>\n",
       "      <td>16.900000</td>\n",
       "      <td>31816300.0</td>\n",
       "    </tr>\n",
       "    <tr>\n",
       "      <th>2585</th>\n",
       "      <td>2010-01-08</td>\n",
       "      <td>YHOO</td>\n",
       "      <td>16.680000</td>\n",
       "      <td>16.700001</td>\n",
       "      <td>16.620001</td>\n",
       "      <td>16.760000</td>\n",
       "      <td>15470000.0</td>\n",
       "    </tr>\n",
       "  </tbody>\n",
       "</table>\n",
       "</div>"
      ],
      "text/plain": [
       "            date symbol       open      close        low       high  \\\n",
       "713   2010-01-04   YHOO  16.940001  17.100000  16.879999  17.200001   \n",
       "1181  2010-01-05   YHOO  17.219999  17.230000  17.000000  17.230000   \n",
       "1649  2010-01-06   YHOO  17.170000  17.170000  17.070000  17.299999   \n",
       "2117  2010-01-07   YHOO  16.809999  16.700001  16.570000  16.900000   \n",
       "2585  2010-01-08   YHOO  16.680000  16.700001  16.620001  16.760000   \n",
       "\n",
       "          volume  \n",
       "713   16587400.0  \n",
       "1181  11718100.0  \n",
       "1649  16422000.0  \n",
       "2117  31816300.0  \n",
       "2585  15470000.0  "
      ]
     },
     "execution_count": 6,
     "metadata": {},
     "output_type": "execute_result"
    }
   ],
   "source": [
    "df_yahoo = df[df['symbol']=='YHOO']\n",
    "df_yahoo.head()"
   ]
  },
  {
   "cell_type": "code",
   "execution_count": 7,
   "id": "ae37feaa",
   "metadata": {
    "execution": {
     "iopub.execute_input": "2024-02-11T19:19:40.372516Z",
     "iopub.status.busy": "2024-02-11T19:19:40.372110Z",
     "iopub.status.idle": "2024-02-11T19:19:40.378986Z",
     "shell.execute_reply": "2024-02-11T19:19:40.377832Z"
    },
    "papermill": {
     "duration": 0.025312,
     "end_time": "2024-02-11T19:19:40.381342",
     "exception": false,
     "start_time": "2024-02-11T19:19:40.356030",
     "status": "completed"
    },
    "tags": []
   },
   "outputs": [
    {
     "data": {
      "text/plain": [
       "(1762, 7)"
      ]
     },
     "execution_count": 7,
     "metadata": {},
     "output_type": "execute_result"
    }
   ],
   "source": [
    "df_yahoo.shape"
   ]
  },
  {
   "cell_type": "code",
   "execution_count": 8,
   "id": "a538ffd4",
   "metadata": {
    "execution": {
     "iopub.execute_input": "2024-02-11T19:19:40.414852Z",
     "iopub.status.busy": "2024-02-11T19:19:40.414443Z",
     "iopub.status.idle": "2024-02-11T19:19:40.428060Z",
     "shell.execute_reply": "2024-02-11T19:19:40.426817Z"
    },
    "papermill": {
     "duration": 0.032792,
     "end_time": "2024-02-11T19:19:40.430411",
     "exception": false,
     "start_time": "2024-02-11T19:19:40.397619",
     "status": "completed"
    },
    "tags": []
   },
   "outputs": [
    {
     "data": {
      "text/plain": [
       "<bound method NDFrame.describe of               date symbol       open      close        low       high  \\\n",
       "713     2010-01-04   YHOO  16.940001  17.100000  16.879999  17.200001   \n",
       "1181    2010-01-05   YHOO  17.219999  17.230000  17.000000  17.230000   \n",
       "1649    2010-01-06   YHOO  17.170000  17.170000  17.070000  17.299999   \n",
       "2117    2010-01-07   YHOO  16.809999  16.700001  16.570000  16.900000   \n",
       "2585    2010-01-08   YHOO  16.680000  16.700001  16.620001  16.760000   \n",
       "...            ...    ...        ...        ...        ...        ...   \n",
       "849257  2016-12-23   YHOO  38.459999  38.660000  38.369999  38.810001   \n",
       "849757  2016-12-27   YHOO  38.590000  38.919998  38.500000  39.070000   \n",
       "850257  2016-12-28   YHOO  39.119999  38.730000  38.709999  39.220001   \n",
       "850757  2016-12-29   YHOO  38.759998  38.639999  38.480000  38.930000   \n",
       "851257  2016-12-30   YHOO  38.720001  38.669998  38.430000  39.000000   \n",
       "\n",
       "            volume  \n",
       "713     16587400.0  \n",
       "1181    11718100.0  \n",
       "1649    16422000.0  \n",
       "2117    31816300.0  \n",
       "2585    15470000.0  \n",
       "...            ...  \n",
       "849257   3840100.0  \n",
       "849757   4240300.0  \n",
       "850257   4393500.0  \n",
       "850757   4170200.0  \n",
       "851257   6431600.0  \n",
       "\n",
       "[1762 rows x 7 columns]>"
      ]
     },
     "execution_count": 8,
     "metadata": {},
     "output_type": "execute_result"
    }
   ],
   "source": [
    "df_yahoo.describe"
   ]
  },
  {
   "cell_type": "code",
   "execution_count": 9,
   "id": "7018b799",
   "metadata": {
    "execution": {
     "iopub.execute_input": "2024-02-11T19:19:40.463128Z",
     "iopub.status.busy": "2024-02-11T19:19:40.462364Z",
     "iopub.status.idle": "2024-02-11T19:19:40.473990Z",
     "shell.execute_reply": "2024-02-11T19:19:40.472896Z"
    },
    "papermill": {
     "duration": 0.03129,
     "end_time": "2024-02-11T19:19:40.476592",
     "exception": false,
     "start_time": "2024-02-11T19:19:40.445302",
     "status": "completed"
    },
    "tags": []
   },
   "outputs": [
    {
     "data": {
      "text/plain": [
       "date      0\n",
       "symbol    0\n",
       "open      0\n",
       "close     0\n",
       "low       0\n",
       "high      0\n",
       "volume    0\n",
       "dtype: int64"
      ]
     },
     "execution_count": 9,
     "metadata": {},
     "output_type": "execute_result"
    }
   ],
   "source": [
    "df_yahoo.isnull().sum()"
   ]
  },
  {
   "cell_type": "code",
   "execution_count": 10,
   "id": "cffd4868",
   "metadata": {
    "execution": {
     "iopub.execute_input": "2024-02-11T19:19:40.513093Z",
     "iopub.status.busy": "2024-02-11T19:19:40.512009Z",
     "iopub.status.idle": "2024-02-11T19:19:40.532462Z",
     "shell.execute_reply": "2024-02-11T19:19:40.531333Z"
    },
    "papermill": {
     "duration": 0.042662,
     "end_time": "2024-02-11T19:19:40.535956",
     "exception": false,
     "start_time": "2024-02-11T19:19:40.493294",
     "status": "completed"
    },
    "tags": []
   },
   "outputs": [
    {
     "name": "stdout",
     "output_type": "stream",
     "text": [
      "object\n"
     ]
    }
   ],
   "source": [
    "df_yahoo.loc[:, 'date'] = pd.to_datetime(df_yahoo['date'])\n",
    "print(df_yahoo['date'].dtype)"
   ]
  },
  {
   "cell_type": "code",
   "execution_count": 11,
   "id": "348f95d4",
   "metadata": {
    "execution": {
     "iopub.execute_input": "2024-02-11T19:19:40.568518Z",
     "iopub.status.busy": "2024-02-11T19:19:40.568147Z",
     "iopub.status.idle": "2024-02-11T19:19:40.584261Z",
     "shell.execute_reply": "2024-02-11T19:19:40.583017Z"
    },
    "papermill": {
     "duration": 0.035519,
     "end_time": "2024-02-11T19:19:40.586920",
     "exception": false,
     "start_time": "2024-02-11T19:19:40.551401",
     "status": "completed"
    },
    "tags": []
   },
   "outputs": [
    {
     "name": "stderr",
     "output_type": "stream",
     "text": [
      "/opt/conda/lib/python3.10/site-packages/pandas/core/indexes/base.py:7587: FutureWarning: Dtype inference on a pandas object (Series, Index, ExtensionArray) is deprecated. The Index constructor will keep the original dtype in the future. Call `infer_objects` on the result to get the old behavior.\n",
      "  return Index(sequences[0], name=names)\n"
     ]
    }
   ],
   "source": [
    "df_yahoo = df_yahoo.set_index(\"date\")"
   ]
  },
  {
   "cell_type": "code",
   "execution_count": 12,
   "id": "b50ba1f6",
   "metadata": {
    "execution": {
     "iopub.execute_input": "2024-02-11T19:19:40.623358Z",
     "iopub.status.busy": "2024-02-11T19:19:40.622509Z",
     "iopub.status.idle": "2024-02-11T19:19:40.638174Z",
     "shell.execute_reply": "2024-02-11T19:19:40.636876Z"
    },
    "papermill": {
     "duration": 0.03614,
     "end_time": "2024-02-11T19:19:40.640722",
     "exception": false,
     "start_time": "2024-02-11T19:19:40.604582",
     "status": "completed"
    },
    "tags": []
   },
   "outputs": [
    {
     "data": {
      "text/html": [
       "<div>\n",
       "<style scoped>\n",
       "    .dataframe tbody tr th:only-of-type {\n",
       "        vertical-align: middle;\n",
       "    }\n",
       "\n",
       "    .dataframe tbody tr th {\n",
       "        vertical-align: top;\n",
       "    }\n",
       "\n",
       "    .dataframe thead th {\n",
       "        text-align: right;\n",
       "    }\n",
       "</style>\n",
       "<table border=\"1\" class=\"dataframe\">\n",
       "  <thead>\n",
       "    <tr style=\"text-align: right;\">\n",
       "      <th></th>\n",
       "      <th>symbol</th>\n",
       "      <th>open</th>\n",
       "      <th>close</th>\n",
       "      <th>low</th>\n",
       "      <th>high</th>\n",
       "      <th>volume</th>\n",
       "    </tr>\n",
       "    <tr>\n",
       "      <th>date</th>\n",
       "      <th></th>\n",
       "      <th></th>\n",
       "      <th></th>\n",
       "      <th></th>\n",
       "      <th></th>\n",
       "      <th></th>\n",
       "    </tr>\n",
       "  </thead>\n",
       "  <tbody>\n",
       "    <tr>\n",
       "      <th>2010-01-04</th>\n",
       "      <td>YHOO</td>\n",
       "      <td>16.940001</td>\n",
       "      <td>17.100000</td>\n",
       "      <td>16.879999</td>\n",
       "      <td>17.200001</td>\n",
       "      <td>16587400.0</td>\n",
       "    </tr>\n",
       "    <tr>\n",
       "      <th>2010-01-05</th>\n",
       "      <td>YHOO</td>\n",
       "      <td>17.219999</td>\n",
       "      <td>17.230000</td>\n",
       "      <td>17.000000</td>\n",
       "      <td>17.230000</td>\n",
       "      <td>11718100.0</td>\n",
       "    </tr>\n",
       "    <tr>\n",
       "      <th>2010-01-06</th>\n",
       "      <td>YHOO</td>\n",
       "      <td>17.170000</td>\n",
       "      <td>17.170000</td>\n",
       "      <td>17.070000</td>\n",
       "      <td>17.299999</td>\n",
       "      <td>16422000.0</td>\n",
       "    </tr>\n",
       "    <tr>\n",
       "      <th>2010-01-07</th>\n",
       "      <td>YHOO</td>\n",
       "      <td>16.809999</td>\n",
       "      <td>16.700001</td>\n",
       "      <td>16.570000</td>\n",
       "      <td>16.900000</td>\n",
       "      <td>31816300.0</td>\n",
       "    </tr>\n",
       "    <tr>\n",
       "      <th>2010-01-08</th>\n",
       "      <td>YHOO</td>\n",
       "      <td>16.680000</td>\n",
       "      <td>16.700001</td>\n",
       "      <td>16.620001</td>\n",
       "      <td>16.760000</td>\n",
       "      <td>15470000.0</td>\n",
       "    </tr>\n",
       "  </tbody>\n",
       "</table>\n",
       "</div>"
      ],
      "text/plain": [
       "           symbol       open      close        low       high      volume\n",
       "date                                                                     \n",
       "2010-01-04   YHOO  16.940001  17.100000  16.879999  17.200001  16587400.0\n",
       "2010-01-05   YHOO  17.219999  17.230000  17.000000  17.230000  11718100.0\n",
       "2010-01-06   YHOO  17.170000  17.170000  17.070000  17.299999  16422000.0\n",
       "2010-01-07   YHOO  16.809999  16.700001  16.570000  16.900000  31816300.0\n",
       "2010-01-08   YHOO  16.680000  16.700001  16.620001  16.760000  15470000.0"
      ]
     },
     "execution_count": 12,
     "metadata": {},
     "output_type": "execute_result"
    }
   ],
   "source": [
    "df_yahoo.head()"
   ]
  },
  {
   "cell_type": "code",
   "execution_count": 13,
   "id": "60c01f28",
   "metadata": {
    "execution": {
     "iopub.execute_input": "2024-02-11T19:19:40.674993Z",
     "iopub.status.busy": "2024-02-11T19:19:40.674538Z",
     "iopub.status.idle": "2024-02-11T19:19:40.680112Z",
     "shell.execute_reply": "2024-02-11T19:19:40.678910Z"
    },
    "papermill": {
     "duration": 0.025553,
     "end_time": "2024-02-11T19:19:40.682827",
     "exception": false,
     "start_time": "2024-02-11T19:19:40.657274",
     "status": "completed"
    },
    "tags": []
   },
   "outputs": [
    {
     "name": "stdout",
     "output_type": "stream",
     "text": [
      "(1762, 6)\n"
     ]
    }
   ],
   "source": [
    "print(df_yahoo.shape)"
   ]
  },
  {
   "cell_type": "code",
   "execution_count": 14,
   "id": "4d7816b1",
   "metadata": {
    "execution": {
     "iopub.execute_input": "2024-02-11T19:19:40.718332Z",
     "iopub.status.busy": "2024-02-11T19:19:40.717221Z",
     "iopub.status.idle": "2024-02-11T19:19:40.776161Z",
     "shell.execute_reply": "2024-02-11T19:19:40.774219Z"
    },
    "papermill": {
     "duration": 0.080639,
     "end_time": "2024-02-11T19:19:40.779096",
     "exception": false,
     "start_time": "2024-02-11T19:19:40.698457",
     "status": "completed"
    },
    "tags": []
   },
   "outputs": [],
   "source": [
    "yahoo_data = df_yahoo.asfreq('b')"
   ]
  },
  {
   "cell_type": "code",
   "execution_count": 15,
   "id": "387e1c65",
   "metadata": {
    "execution": {
     "iopub.execute_input": "2024-02-11T19:19:40.814374Z",
     "iopub.status.busy": "2024-02-11T19:19:40.813756Z",
     "iopub.status.idle": "2024-02-11T19:19:40.818575Z",
     "shell.execute_reply": "2024-02-11T19:19:40.817423Z"
    },
    "papermill": {
     "duration": 0.024749,
     "end_time": "2024-02-11T19:19:40.820945",
     "exception": false,
     "start_time": "2024-02-11T19:19:40.796196",
     "status": "completed"
    },
    "tags": []
   },
   "outputs": [
    {
     "name": "stdout",
     "output_type": "stream",
     "text": [
      "(1825, 6)\n"
     ]
    }
   ],
   "source": [
    "print(yahoo_data.shape)"
   ]
  },
  {
   "cell_type": "code",
   "execution_count": 16,
   "id": "6d625fe2",
   "metadata": {
    "execution": {
     "iopub.execute_input": "2024-02-11T19:19:40.855886Z",
     "iopub.status.busy": "2024-02-11T19:19:40.855019Z",
     "iopub.status.idle": "2024-02-11T19:19:40.871344Z",
     "shell.execute_reply": "2024-02-11T19:19:40.870133Z"
    },
    "papermill": {
     "duration": 0.03643,
     "end_time": "2024-02-11T19:19:40.873778",
     "exception": false,
     "start_time": "2024-02-11T19:19:40.837348",
     "status": "completed"
    },
    "tags": []
   },
   "outputs": [
    {
     "data": {
      "text/html": [
       "<div>\n",
       "<style scoped>\n",
       "    .dataframe tbody tr th:only-of-type {\n",
       "        vertical-align: middle;\n",
       "    }\n",
       "\n",
       "    .dataframe tbody tr th {\n",
       "        vertical-align: top;\n",
       "    }\n",
       "\n",
       "    .dataframe thead th {\n",
       "        text-align: right;\n",
       "    }\n",
       "</style>\n",
       "<table border=\"1\" class=\"dataframe\">\n",
       "  <thead>\n",
       "    <tr style=\"text-align: right;\">\n",
       "      <th></th>\n",
       "      <th>symbol</th>\n",
       "      <th>open</th>\n",
       "      <th>close</th>\n",
       "      <th>low</th>\n",
       "      <th>high</th>\n",
       "      <th>volume</th>\n",
       "    </tr>\n",
       "    <tr>\n",
       "      <th>date</th>\n",
       "      <th></th>\n",
       "      <th></th>\n",
       "      <th></th>\n",
       "      <th></th>\n",
       "      <th></th>\n",
       "      <th></th>\n",
       "    </tr>\n",
       "  </thead>\n",
       "  <tbody>\n",
       "    <tr>\n",
       "      <th>2016-12-26</th>\n",
       "      <td>NaN</td>\n",
       "      <td>NaN</td>\n",
       "      <td>NaN</td>\n",
       "      <td>NaN</td>\n",
       "      <td>NaN</td>\n",
       "      <td>NaN</td>\n",
       "    </tr>\n",
       "    <tr>\n",
       "      <th>2016-12-27</th>\n",
       "      <td>YHOO</td>\n",
       "      <td>38.590000</td>\n",
       "      <td>38.919998</td>\n",
       "      <td>38.500000</td>\n",
       "      <td>39.070000</td>\n",
       "      <td>4240300.0</td>\n",
       "    </tr>\n",
       "    <tr>\n",
       "      <th>2016-12-28</th>\n",
       "      <td>YHOO</td>\n",
       "      <td>39.119999</td>\n",
       "      <td>38.730000</td>\n",
       "      <td>38.709999</td>\n",
       "      <td>39.220001</td>\n",
       "      <td>4393500.0</td>\n",
       "    </tr>\n",
       "    <tr>\n",
       "      <th>2016-12-29</th>\n",
       "      <td>YHOO</td>\n",
       "      <td>38.759998</td>\n",
       "      <td>38.639999</td>\n",
       "      <td>38.480000</td>\n",
       "      <td>38.930000</td>\n",
       "      <td>4170200.0</td>\n",
       "    </tr>\n",
       "    <tr>\n",
       "      <th>2016-12-30</th>\n",
       "      <td>YHOO</td>\n",
       "      <td>38.720001</td>\n",
       "      <td>38.669998</td>\n",
       "      <td>38.430000</td>\n",
       "      <td>39.000000</td>\n",
       "      <td>6431600.0</td>\n",
       "    </tr>\n",
       "  </tbody>\n",
       "</table>\n",
       "</div>"
      ],
      "text/plain": [
       "           symbol       open      close        low       high     volume\n",
       "date                                                                    \n",
       "2016-12-26    NaN        NaN        NaN        NaN        NaN        NaN\n",
       "2016-12-27   YHOO  38.590000  38.919998  38.500000  39.070000  4240300.0\n",
       "2016-12-28   YHOO  39.119999  38.730000  38.709999  39.220001  4393500.0\n",
       "2016-12-29   YHOO  38.759998  38.639999  38.480000  38.930000  4170200.0\n",
       "2016-12-30   YHOO  38.720001  38.669998  38.430000  39.000000  6431600.0"
      ]
     },
     "execution_count": 16,
     "metadata": {},
     "output_type": "execute_result"
    }
   ],
   "source": [
    "yahoo_data.tail()"
   ]
  },
  {
   "cell_type": "code",
   "execution_count": 17,
   "id": "5b579805",
   "metadata": {
    "execution": {
     "iopub.execute_input": "2024-02-11T19:19:40.909688Z",
     "iopub.status.busy": "2024-02-11T19:19:40.909267Z",
     "iopub.status.idle": "2024-02-11T19:19:40.917700Z",
     "shell.execute_reply": "2024-02-11T19:19:40.916422Z"
    },
    "papermill": {
     "duration": 0.030104,
     "end_time": "2024-02-11T19:19:40.921001",
     "exception": false,
     "start_time": "2024-02-11T19:19:40.890897",
     "status": "completed"
    },
    "tags": []
   },
   "outputs": [
    {
     "data": {
      "text/plain": [
       "symbol    63\n",
       "open      63\n",
       "close     63\n",
       "low       63\n",
       "high      63\n",
       "volume    63\n",
       "dtype: int64"
      ]
     },
     "execution_count": 17,
     "metadata": {},
     "output_type": "execute_result"
    }
   ],
   "source": [
    "yahoo_data.isnull().sum()"
   ]
  },
  {
   "cell_type": "code",
   "execution_count": 18,
   "id": "4c84ad04",
   "metadata": {
    "execution": {
     "iopub.execute_input": "2024-02-11T19:19:40.958022Z",
     "iopub.status.busy": "2024-02-11T19:19:40.957581Z",
     "iopub.status.idle": "2024-02-11T19:19:40.965422Z",
     "shell.execute_reply": "2024-02-11T19:19:40.964226Z"
    },
    "papermill": {
     "duration": 0.028744,
     "end_time": "2024-02-11T19:19:40.968073",
     "exception": false,
     "start_time": "2024-02-11T19:19:40.939329",
     "status": "completed"
    },
    "tags": []
   },
   "outputs": [],
   "source": [
    "null_data = yahoo_data[yahoo_data. isnull().any(axis=1) ]\n",
    "null_data.head()\n",
    "null_dates = null_data.index.tolist()"
   ]
  },
  {
   "cell_type": "code",
   "execution_count": 19,
   "id": "f61264f4",
   "metadata": {
    "execution": {
     "iopub.execute_input": "2024-02-11T19:19:41.003092Z",
     "iopub.status.busy": "2024-02-11T19:19:41.002679Z",
     "iopub.status.idle": "2024-02-11T19:19:41.025971Z",
     "shell.execute_reply": "2024-02-11T19:19:41.024324Z"
    },
    "papermill": {
     "duration": 0.044383,
     "end_time": "2024-02-11T19:19:41.028798",
     "exception": false,
     "start_time": "2024-02-11T19:19:40.984415",
     "status": "completed"
    },
    "tags": []
   },
   "outputs": [
    {
     "name": "stdout",
     "output_type": "stream",
     "text": [
      "[Timestamp('2012-10-29 00:00:00'), Timestamp('2012-10-30 00:00:00')]\n"
     ]
    }
   ],
   "source": [
    "import calendar\n",
    "import datetime\n",
    "\n",
    "holidays = []\n",
    "\n",
    "for date in null_dates:\n",
    "    week, day, month, year = date.weekday(), date.day, date.month, date.year\n",
    "    week_day = calendar.day_name[week]\n",
    "\n",
    "    if month==1:\n",
    "        if day==1:\n",
    "            # New year day\n",
    "            holidays.append(date)\n",
    "        elif day==2 and week_day=='Monday':\n",
    "            # Observed New Year Day\n",
    "            holidays.append(date)\n",
    "        elif day>=15 and day<=21 and week_day=='Monday':\n",
    "            # Martin Luther King, Jr. Day\n",
    "            holidays.append(date)\n",
    "\n",
    "    elif month==2:\n",
    "        # Washington's Birthday\n",
    "        if day>=15 and day<=21 and week_day=='Monday':\n",
    "            holidays.append(date)\n",
    "\n",
    "    elif month==5:\n",
    "        # Memorial day\n",
    "        if day>=25 and day<=31 and week_day=='Monday':\n",
    "            holidays.append(date)\n",
    "\n",
    "    elif month==7:\n",
    "        # Independence day\n",
    "        if day==4:\n",
    "            holidays.append(date)\n",
    "        # Observed Independence  Day\n",
    "        elif day==5 and week_day=='Monday':\n",
    "            holidays.append(date)\n",
    "        elif day==3 and week_day=='Friday':\n",
    "            holidays.append(date)\n",
    "\n",
    "    elif month == 9:\n",
    "        # Labour day\n",
    "        if day>=1 and day<=7 and week_day=='Monday':\n",
    "            holidays.append(date)\n",
    "\n",
    "    elif month==11:\n",
    "        # Thanksgiving Day\n",
    "        if week_day=='Thursday' and day>=22 and day<=28:\n",
    "            holidays.append(date)\n",
    "\n",
    "    elif month==12:\n",
    "        # Christmas Day\n",
    "        if day==25:\n",
    "            holidays.append(date)\n",
    "        # Observed Christmas Day\n",
    "        elif day==24 and week_day=='Friday':\n",
    "            holidays.append(date)\n",
    "        elif day==26 and week_day=='Monday':\n",
    "            holidays.append(date)\n",
    "\n",
    "good_fridays = [ datetime.date(2010,4,2), datetime.date(2011,4,22), datetime.date(2012,4,6), datetime.date(2013,3,29), datetime.date(2014,4,18), datetime.date(2015,4,3), datetime.date(2016,3,25) ]\n",
    "holidays = holidays + [pd.to_datetime(date) for date in good_fridays]\n",
    "\n",
    "non_holidays = [x for x in null_dates if x not in holidays]\n",
    "print(non_holidays)"
   ]
  },
  {
   "cell_type": "code",
   "execution_count": 20,
   "id": "1a43cd4c",
   "metadata": {
    "execution": {
     "iopub.execute_input": "2024-02-11T19:19:41.062920Z",
     "iopub.status.busy": "2024-02-11T19:19:41.062494Z",
     "iopub.status.idle": "2024-02-11T19:19:41.071315Z",
     "shell.execute_reply": "2024-02-11T19:19:41.069854Z"
    },
    "papermill": {
     "duration": 0.028857,
     "end_time": "2024-02-11T19:19:41.073831",
     "exception": false,
     "start_time": "2024-02-11T19:19:41.044974",
     "status": "completed"
    },
    "tags": []
   },
   "outputs": [
    {
     "name": "stdout",
     "output_type": "stream",
     "text": [
      "(1825, 6)\n",
      "(1764, 6)\n"
     ]
    }
   ],
   "source": [
    "print(yahoo_data.shape)\n",
    "modified_df = yahoo_data.drop(holidays)\n",
    "print(modified_df.shape)"
   ]
  },
  {
   "cell_type": "code",
   "execution_count": 21,
   "id": "493f5050",
   "metadata": {
    "execution": {
     "iopub.execute_input": "2024-02-11T19:19:41.110030Z",
     "iopub.status.busy": "2024-02-11T19:19:41.109573Z",
     "iopub.status.idle": "2024-02-11T19:19:41.123360Z",
     "shell.execute_reply": "2024-02-11T19:19:41.122140Z"
    },
    "papermill": {
     "duration": 0.035899,
     "end_time": "2024-02-11T19:19:41.126725",
     "exception": false,
     "start_time": "2024-02-11T19:19:41.090826",
     "status": "completed"
    },
    "tags": []
   },
   "outputs": [
    {
     "name": "stdout",
     "output_type": "stream",
     "text": [
      "Before filling missing values:\n",
      " symbol    2\n",
      "open      2\n",
      "close     2\n",
      "low       2\n",
      "high      2\n",
      "volume    2\n",
      "dtype: int64\n",
      "\n",
      "After filling missing values:\n",
      " symbol    0\n",
      "open      0\n",
      "close     0\n",
      "low       0\n",
      "high      0\n",
      "volume    0\n",
      "dtype: int64\n"
     ]
    }
   ],
   "source": [
    "print(\"Before filling missing values:\\n\", modified_df.isna().sum())\n",
    "modified_df = modified_df.bfill(axis ='rows')\n",
    "print(\"\\nAfter filling missing values:\\n\",modified_df.isna().sum())"
   ]
  },
  {
   "cell_type": "code",
   "execution_count": 22,
   "id": "cd703fe9",
   "metadata": {
    "execution": {
     "iopub.execute_input": "2024-02-11T19:19:41.162124Z",
     "iopub.status.busy": "2024-02-11T19:19:41.161701Z",
     "iopub.status.idle": "2024-02-11T19:19:41.434064Z",
     "shell.execute_reply": "2024-02-11T19:19:41.432777Z"
    },
    "papermill": {
     "duration": 0.293089,
     "end_time": "2024-02-11T19:19:41.436820",
     "exception": false,
     "start_time": "2024-02-11T19:19:41.143731",
     "status": "completed"
    },
    "tags": []
   },
   "outputs": [
    {
     "data": {
      "image/png": "[encoded data removed]",
      "text/plain": [
       "<Figure size 640x480 with 1 Axes>"
      ]
     },
     "metadata": {},
     "output_type": "display_data"
    }
   ],
   "source": [
    "def plotter(code):\n",
    "    global closing_stock\n",
    "    plt.subplot(211)\n",
    "    company_close = modified_df[modified_df['symbol']==code]\n",
    "    company_close = company_close.close.values.astype('float32')\n",
    "    company_close = company_close.reshape(-1, 1)\n",
    "    closing_stock = company_close\n",
    "    plt.xlabel('Time')\n",
    "    plt.ylabel(code + \" close stock prices\")\n",
    "    plt.title('prices Vs Time')\n",
    "    plt.grid(True)\n",
    "    plt.plot(company_close , 'b')\n",
    "    plt.show()\n",
    "\n",
    "plotter(\"YHOO\")"
   ]
  },
  {
   "cell_type": "code",
   "execution_count": 23,
   "id": "df52a493",
   "metadata": {
    "execution": {
     "iopub.execute_input": "2024-02-11T19:19:41.472880Z",
     "iopub.status.busy": "2024-02-11T19:19:41.472499Z",
     "iopub.status.idle": "2024-02-11T19:19:41.479427Z",
     "shell.execute_reply": "2024-02-11T19:19:41.478169Z"
    },
    "papermill": {
     "duration": 0.028457,
     "end_time": "2024-02-11T19:19:41.482352",
     "exception": false,
     "start_time": "2024-02-11T19:19:41.453895",
     "status": "completed"
    },
    "tags": []
   },
   "outputs": [
    {
     "name": "stdout",
     "output_type": "stream",
     "text": [
      "Train samples: 1411 Validation Samples: 176 Test Samples: 177\n"
     ]
    }
   ],
   "source": [
    "n_train = int(len(closing_stock) * 0.80)\n",
    "n_remaining = len(closing_stock) - n_train\n",
    "\n",
    "n_val = int(n_remaining*0.50)\n",
    "n_test = n_remaining - n_val \n",
    "print(\"Train samples:\",n_train, \"Validation Samples:\",n_val,\"Test Samples:\", n_test)"
   ]
  },
  {
   "cell_type": "code",
   "execution_count": 24,
   "id": "ef14d38d",
   "metadata": {
    "execution": {
     "iopub.execute_input": "2024-02-11T19:19:41.585739Z",
     "iopub.status.busy": "2024-02-11T19:19:41.584902Z",
     "iopub.status.idle": "2024-02-11T19:19:41.590637Z",
     "shell.execute_reply": "2024-02-11T19:19:41.589487Z"
    },
    "papermill": {
     "duration": 0.093714,
     "end_time": "2024-02-11T19:19:41.593186",
     "exception": false,
     "start_time": "2024-02-11T19:19:41.499472",
     "status": "completed"
    },
    "tags": []
   },
   "outputs": [
    {
     "name": "stdout",
     "output_type": "stream",
     "text": [
      "(1411, 1)\n"
     ]
    }
   ],
   "source": [
    "train_data = closing_stock[0:n_train]\n",
    "print(train_data.shape)"
   ]
  },
  {
   "cell_type": "code",
   "execution_count": 25,
   "id": "0f2acffe",
   "metadata": {
    "execution": {
     "iopub.execute_input": "2024-02-11T19:19:41.632431Z",
     "iopub.status.busy": "2024-02-11T19:19:41.632056Z",
     "iopub.status.idle": "2024-02-11T19:19:41.637267Z",
     "shell.execute_reply": "2024-02-11T19:19:41.636025Z"
    },
    "papermill": {
     "duration": 0.02863,
     "end_time": "2024-02-11T19:19:41.640688",
     "exception": false,
     "start_time": "2024-02-11T19:19:41.612058",
     "status": "completed"
    },
    "tags": []
   },
   "outputs": [
    {
     "name": "stdout",
     "output_type": "stream",
     "text": [
      "(176, 1)\n"
     ]
    }
   ],
   "source": [
    "val_data = closing_stock[n_train:n_train+n_val]\n",
    "print(val_data.shape)"
   ]
  },
  {
   "cell_type": "code",
   "execution_count": 26,
   "id": "30bbec31",
   "metadata": {
    "execution": {
     "iopub.execute_input": "2024-02-11T19:19:41.680404Z",
     "iopub.status.busy": "2024-02-11T19:19:41.679994Z",
     "iopub.status.idle": "2024-02-11T19:19:41.684806Z",
     "shell.execute_reply": "2024-02-11T19:19:41.683695Z"
    },
    "papermill": {
     "duration": 0.028407,
     "end_time": "2024-02-11T19:19:41.687908",
     "exception": false,
     "start_time": "2024-02-11T19:19:41.659501",
     "status": "completed"
    },
    "tags": []
   },
   "outputs": [
    {
     "name": "stdout",
     "output_type": "stream",
     "text": [
      "(177, 1)\n"
     ]
    }
   ],
   "source": [
    "test_data = closing_stock[n_train+n_val:]\n",
    "print(test_data.shape)"
   ]
  },
  {
   "cell_type": "code",
   "execution_count": 27,
   "id": "733b4dd4",
   "metadata": {
    "execution": {
     "iopub.execute_input": "2024-02-11T19:19:41.725807Z",
     "iopub.status.busy": "2024-02-11T19:19:41.725262Z",
     "iopub.status.idle": "2024-02-11T19:19:43.015784Z",
     "shell.execute_reply": "2024-02-11T19:19:43.014426Z"
    },
    "papermill": {
     "duration": 1.313471,
     "end_time": "2024-02-11T19:19:43.018871",
     "exception": false,
     "start_time": "2024-02-11T19:19:41.705400",
     "status": "completed"
    },
    "tags": []
   },
   "outputs": [],
   "source": [
    "from sklearn.preprocessing import MinMaxScaler\n",
    "scaler =MinMaxScaler(feature_range=(0, 1))"
   ]
  },
  {
   "cell_type": "code",
   "execution_count": 28,
   "id": "d24314f1",
   "metadata": {
    "execution": {
     "iopub.execute_input": "2024-02-11T19:19:43.059187Z",
     "iopub.status.busy": "2024-02-11T19:19:43.058018Z",
     "iopub.status.idle": "2024-02-11T19:19:43.063660Z",
     "shell.execute_reply": "2024-02-11T19:19:43.062827Z"
    },
    "papermill": {
     "duration": 0.029756,
     "end_time": "2024-02-11T19:19:43.066090",
     "exception": false,
     "start_time": "2024-02-11T19:19:43.036334",
     "status": "completed"
    },
    "tags": []
   },
   "outputs": [],
   "source": [
    "train = scaler.fit_transform(train_data)"
   ]
  },
  {
   "cell_type": "code",
   "execution_count": 29,
   "id": "9255945a",
   "metadata": {
    "execution": {
     "iopub.execute_input": "2024-02-11T19:19:43.109900Z",
     "iopub.status.busy": "2024-02-11T19:19:43.109429Z",
     "iopub.status.idle": "2024-02-11T19:19:43.116852Z",
     "shell.execute_reply": "2024-02-11T19:19:43.115608Z"
    },
    "papermill": {
     "duration": 0.033731,
     "end_time": "2024-02-11T19:19:43.119790",
     "exception": false,
     "start_time": "2024-02-11T19:19:43.086059",
     "status": "completed"
    },
    "tags": []
   },
   "outputs": [],
   "source": [
    "val = scaler.fit_transform(val_data)"
   ]
  },
  {
   "cell_type": "code",
   "execution_count": 30,
   "id": "3d1d1c50",
   "metadata": {
    "execution": {
     "iopub.execute_input": "2024-02-11T19:19:43.170683Z",
     "iopub.status.busy": "2024-02-11T19:19:43.170007Z",
     "iopub.status.idle": "2024-02-11T19:19:43.177779Z",
     "shell.execute_reply": "2024-02-11T19:19:43.176340Z"
    },
    "papermill": {
     "duration": 0.039174,
     "end_time": "2024-02-11T19:19:43.181433",
     "exception": false,
     "start_time": "2024-02-11T19:19:43.142259",
     "status": "completed"
    },
    "tags": []
   },
   "outputs": [],
   "source": [
    "test = scaler.fit_transform(test_data)"
   ]
  },
  {
   "cell_type": "code",
   "execution_count": 31,
   "id": "721416c2",
   "metadata": {
    "execution": {
     "iopub.execute_input": "2024-02-11T19:19:43.227285Z",
     "iopub.status.busy": "2024-02-11T19:19:43.226403Z",
     "iopub.status.idle": "2024-02-11T19:19:43.233662Z",
     "shell.execute_reply": "2024-02-11T19:19:43.232637Z"
    },
    "papermill": {
     "duration": 0.032943,
     "end_time": "2024-02-11T19:19:43.236240",
     "exception": false,
     "start_time": "2024-02-11T19:19:43.203297",
     "status": "completed"
    },
    "tags": []
   },
   "outputs": [],
   "source": [
    "def create_dataset(data , n_features):\n",
    "    dataX, dataY = [], []\n",
    "    for i in range(len(data)-n_features-1):\n",
    "        a = data[i:(i+n_features), 0]\n",
    "        dataX.append(a)\n",
    "        dataY.append(data[i + n_features, 0])\n",
    "    return np.array(dataX), np.array(dataY)"
   ]
  },
  {
   "cell_type": "code",
   "execution_count": 32,
   "id": "c410f911",
   "metadata": {
    "execution": {
     "iopub.execute_input": "2024-02-11T19:19:43.292519Z",
     "iopub.status.busy": "2024-02-11T19:19:43.291582Z",
     "iopub.status.idle": "2024-02-11T19:19:43.297269Z",
     "shell.execute_reply": "2024-02-11T19:19:43.295844Z"
    },
    "papermill": {
     "duration": 0.035022,
     "end_time": "2024-02-11T19:19:43.300581",
     "exception": false,
     "start_time": "2024-02-11T19:19:43.265559",
     "status": "completed"
    },
    "tags": []
   },
   "outputs": [],
   "source": [
    "n_features = 2"
   ]
  },
  {
   "cell_type": "code",
   "execution_count": 33,
   "id": "6d84c36f",
   "metadata": {
    "execution": {
     "iopub.execute_input": "2024-02-11T19:19:43.340548Z",
     "iopub.status.busy": "2024-02-11T19:19:43.339829Z",
     "iopub.status.idle": "2024-02-11T19:19:43.349732Z",
     "shell.execute_reply": "2024-02-11T19:19:43.348665Z"
    },
    "papermill": {
     "duration": 0.03268,
     "end_time": "2024-02-11T19:19:43.352559",
     "exception": false,
     "start_time": "2024-02-11T19:19:43.319879",
     "status": "completed"
    },
    "tags": []
   },
   "outputs": [],
   "source": [
    "trainX, trainY = create_dataset(train, n_features)\n",
    "valX, valY = create_dataset(val, n_features)\n",
    "testX, testY = create_dataset(test, n_features)"
   ]
  },
  {
   "cell_type": "code",
   "execution_count": 34,
   "id": "03844d78",
   "metadata": {
    "execution": {
     "iopub.execute_input": "2024-02-11T19:19:43.390036Z",
     "iopub.status.busy": "2024-02-11T19:19:43.389570Z",
     "iopub.status.idle": "2024-02-11T19:19:43.396793Z",
     "shell.execute_reply": "2024-02-11T19:19:43.395366Z"
    },
    "papermill": {
     "duration": 0.028666,
     "end_time": "2024-02-11T19:19:43.399288",
     "exception": false,
     "start_time": "2024-02-11T19:19:43.370622",
     "status": "completed"
    },
    "tags": []
   },
   "outputs": [
    {
     "name": "stdout",
     "output_type": "stream",
     "text": [
      "(1408, 2) (1408,) (173, 2) (173,) (174, 2) (174,)\n"
     ]
    }
   ],
   "source": [
    "print(trainX.shape , trainY.shape , valX.shape , valY.shape, testX.shape , testY.shape)"
   ]
  },
  {
   "cell_type": "code",
   "execution_count": 35,
   "id": "c26dd34e",
   "metadata": {
    "execution": {
     "iopub.execute_input": "2024-02-11T19:19:43.439879Z",
     "iopub.status.busy": "2024-02-11T19:19:43.438881Z",
     "iopub.status.idle": "2024-02-11T19:19:59.571834Z",
     "shell.execute_reply": "2024-02-11T19:19:59.570589Z"
    },
    "papermill": {
     "duration": 16.156967,
     "end_time": "2024-02-11T19:19:59.575638",
     "exception": false,
     "start_time": "2024-02-11T19:19:43.418671",
     "status": "completed"
    },
    "tags": []
   },
   "outputs": [
    {
     "name": "stderr",
     "output_type": "stream",
     "text": [
      "2024-02-11 19:19:45.728306: E external/local_xla/xla/stream_executor/cuda/cuda_dnn.cc:9261] Unable to register cuDNN factory: Attempting to register factory for plugin cuDNN when one has already been registered\n",
      "2024-02-11 19:19:45.728454: E external/local_xla/xla/stream_executor/cuda/cuda_fft.cc:607] Unable to register cuFFT factory: Attempting to register factory for plugin cuFFT when one has already been registered\n",
      "2024-02-11 19:19:45.882018: E external/local_xla/xla/stream_executor/cuda/cuda_blas.cc:1515] Unable to register cuBLAS factory: Attempting to register factory for plugin cuBLAS when one has already been registered\n"
     ]
    }
   ],
   "source": [
    "import tensorflow as tf\n",
    "tf.random.set_seed(42)\n",
    "\n",
    "from tensorflow import keras\n",
    "from tensorflow.keras import layers\n",
    "from tensorflow.keras.optimizers import Adam\n",
    "\n",
    "from sklearn.metrics import mean_squared_error"
   ]
  },
  {
   "cell_type": "code",
   "execution_count": 36,
   "id": "b5479cb4",
   "metadata": {
    "execution": {
     "iopub.execute_input": "2024-02-11T19:19:59.615044Z",
     "iopub.status.busy": "2024-02-11T19:19:59.614279Z",
     "iopub.status.idle": "2024-02-11T19:19:59.671350Z",
     "shell.execute_reply": "2024-02-11T19:19:59.670259Z"
    },
    "papermill": {
     "duration": 0.080038,
     "end_time": "2024-02-11T19:19:59.673947",
     "exception": false,
     "start_time": "2024-02-11T19:19:59.593909",
     "status": "completed"
    },
    "tags": []
   },
   "outputs": [],
   "source": [
    "model = keras.Sequential()\n"
   ]
  },
  {
   "cell_type": "code",
   "execution_count": 37,
   "id": "37878e8a",
   "metadata": {
    "execution": {
     "iopub.execute_input": "2024-02-11T19:19:59.713818Z",
     "iopub.status.busy": "2024-02-11T19:19:59.713103Z",
     "iopub.status.idle": "2024-02-11T19:19:59.717896Z",
     "shell.execute_reply": "2024-02-11T19:19:59.717095Z"
    },
    "papermill": {
     "duration": 0.02793,
     "end_time": "2024-02-11T19:19:59.720241",
     "exception": false,
     "start_time": "2024-02-11T19:19:59.692311",
     "status": "completed"
    },
    "tags": []
   },
   "outputs": [],
   "source": [
    "trainX = trainX.reshape(trainX.shape[0], 1, trainX.shape[1])\n",
    "valX = valX.reshape(valX.shape[0], 1, valX.shape[1])"
   ]
  },
  {
   "cell_type": "code",
   "execution_count": 38,
   "id": "fc7f20d7",
   "metadata": {
    "execution": {
     "iopub.execute_input": "2024-02-11T19:19:59.759195Z",
     "iopub.status.busy": "2024-02-11T19:19:59.758420Z",
     "iopub.status.idle": "2024-02-11T19:20:26.738017Z",
     "shell.execute_reply": "2024-02-11T19:20:26.736637Z"
    },
    "papermill": {
     "duration": 27.001821,
     "end_time": "2024-02-11T19:20:26.740771",
     "exception": false,
     "start_time": "2024-02-11T19:19:59.738950",
     "status": "completed"
    },
    "tags": []
   },
   "outputs": [
    {
     "name": "stdout",
     "output_type": "stream",
     "text": [
      "Model: \"sequential\"\n",
      "_________________________________________________________________\n",
      " Layer (type)                Output Shape              Param #   \n",
      "=================================================================\n",
      " gru (GRU)                   (None, 1, 100)            31200     \n",
      "                                                                 \n",
      " dropout (Dropout)           (None, 1, 100)            0         \n",
      "                                                                 \n",
      " gru_1 (GRU)                 (None, 1, 150)            113400    \n",
      "                                                                 \n",
      " dropout_1 (Dropout)         (None, 1, 150)            0         \n",
      "                                                                 \n",
      " gru_2 (GRU)                 (None, 100)               75600     \n",
      "                                                                 \n",
      " dropout_2 (Dropout)         (None, 100)               0         \n",
      "                                                                 \n",
      " dense (Dense)               (None, 1)                 101       \n",
      "                                                                 \n",
      "=================================================================\n",
      "Total params: 220301 (860.55 KB)\n",
      "Trainable params: 220301 (860.55 KB)\n",
      "Non-trainable params: 0 (0.00 Byte)\n",
      "_________________________________________________________________\n",
      "None\n",
      "Epoch 1/100\n",
      "11/11 [==============================] - 8s 151ms/step - loss: 0.0981 - mean_squared_error: 0.0981 - val_loss: 0.0149 - val_mean_squared_error: 0.0149\n",
      "Epoch 2/100\n",
      "11/11 [==============================] - 0s 16ms/step - loss: 0.0281 - mean_squared_error: 0.0281 - val_loss: 0.0147 - val_mean_squared_error: 0.0147\n",
      "Epoch 3/100\n",
      "11/11 [==============================] - 0s 17ms/step - loss: 0.0097 - mean_squared_error: 0.0097 - val_loss: 0.0052 - val_mean_squared_error: 0.0052\n",
      "Epoch 4/100\n",
      "11/11 [==============================] - 0s 16ms/step - loss: 0.0036 - mean_squared_error: 0.0036 - val_loss: 0.0065 - val_mean_squared_error: 0.0065\n",
      "Epoch 5/100\n",
      "11/11 [==============================] - 0s 17ms/step - loss: 0.0029 - mean_squared_error: 0.0029 - val_loss: 0.0058 - val_mean_squared_error: 0.0058\n",
      "Epoch 6/100\n",
      "11/11 [==============================] - 0s 16ms/step - loss: 0.0020 - mean_squared_error: 0.0020 - val_loss: 0.0054 - val_mean_squared_error: 0.0054\n",
      "Epoch 7/100\n",
      "11/11 [==============================] - 0s 16ms/step - loss: 0.0021 - mean_squared_error: 0.0021 - val_loss: 0.0052 - val_mean_squared_error: 0.0052\n",
      "Epoch 8/100\n",
      "11/11 [==============================] - 0s 17ms/step - loss: 0.0019 - mean_squared_error: 0.0019 - val_loss: 0.0052 - val_mean_squared_error: 0.0052\n",
      "Epoch 9/100\n",
      "11/11 [==============================] - 0s 18ms/step - loss: 0.0020 - mean_squared_error: 0.0020 - val_loss: 0.0053 - val_mean_squared_error: 0.0053\n",
      "Epoch 10/100\n",
      "11/11 [==============================] - 0s 16ms/step - loss: 0.0019 - mean_squared_error: 0.0019 - val_loss: 0.0053 - val_mean_squared_error: 0.0053\n",
      "Epoch 11/100\n",
      "11/11 [==============================] - 0s 17ms/step - loss: 0.0020 - mean_squared_error: 0.0020 - val_loss: 0.0052 - val_mean_squared_error: 0.0052\n",
      "Epoch 12/100\n",
      "11/11 [==============================] - 0s 16ms/step - loss: 0.0019 - mean_squared_error: 0.0019 - val_loss: 0.0052 - val_mean_squared_error: 0.0052\n",
      "Epoch 13/100\n",
      "11/11 [==============================] - 0s 17ms/step - loss: 0.0016 - mean_squared_error: 0.0016 - val_loss: 0.0051 - val_mean_squared_error: 0.0051\n",
      "Epoch 14/100\n",
      "11/11 [==============================] - 0s 16ms/step - loss: 0.0020 - mean_squared_error: 0.0020 - val_loss: 0.0051 - val_mean_squared_error: 0.0051\n",
      "Epoch 15/100\n",
      "11/11 [==============================] - 0s 17ms/step - loss: 0.0017 - mean_squared_error: 0.0017 - val_loss: 0.0051 - val_mean_squared_error: 0.0051\n",
      "Epoch 16/100\n",
      "11/11 [==============================] - 0s 17ms/step - loss: 0.0016 - mean_squared_error: 0.0016 - val_loss: 0.0051 - val_mean_squared_error: 0.0051\n",
      "Epoch 17/100\n",
      "11/11 [==============================] - 0s 19ms/step - loss: 0.0018 - mean_squared_error: 0.0018 - val_loss: 0.0053 - val_mean_squared_error: 0.0053\n",
      "Epoch 18/100\n",
      "11/11 [==============================] - 0s 15ms/step - loss: 0.0016 - mean_squared_error: 0.0016 - val_loss: 0.0051 - val_mean_squared_error: 0.0051\n",
      "Epoch 19/100\n",
      "11/11 [==============================] - 0s 16ms/step - loss: 0.0015 - mean_squared_error: 0.0015 - val_loss: 0.0051 - val_mean_squared_error: 0.0051\n",
      "Epoch 20/100\n",
      "11/11 [==============================] - 0s 17ms/step - loss: 0.0015 - mean_squared_error: 0.0015 - val_loss: 0.0051 - val_mean_squared_error: 0.0051\n",
      "Epoch 21/100\n",
      "11/11 [==============================] - 0s 16ms/step - loss: 0.0014 - mean_squared_error: 0.0014 - val_loss: 0.0051 - val_mean_squared_error: 0.0051\n",
      "Epoch 22/100\n",
      "11/11 [==============================] - 0s 16ms/step - loss: 0.0014 - mean_squared_error: 0.0014 - val_loss: 0.0051 - val_mean_squared_error: 0.0051\n",
      "Epoch 23/100\n",
      "11/11 [==============================] - 0s 16ms/step - loss: 0.0014 - mean_squared_error: 0.0014 - val_loss: 0.0051 - val_mean_squared_error: 0.0051\n",
      "Epoch 24/100\n",
      "11/11 [==============================] - 0s 15ms/step - loss: 0.0016 - mean_squared_error: 0.0016 - val_loss: 0.0051 - val_mean_squared_error: 0.0051\n",
      "Epoch 25/100\n",
      "11/11 [==============================] - 0s 16ms/step - loss: 0.0014 - mean_squared_error: 0.0014 - val_loss: 0.0051 - val_mean_squared_error: 0.0051\n",
      "Epoch 26/100\n",
      "11/11 [==============================] - 0s 21ms/step - loss: 0.0013 - mean_squared_error: 0.0013 - val_loss: 0.0051 - val_mean_squared_error: 0.0051\n",
      "Epoch 27/100\n",
      "11/11 [==============================] - 0s 18ms/step - loss: 0.0014 - mean_squared_error: 0.0014 - val_loss: 0.0052 - val_mean_squared_error: 0.0052\n",
      "Epoch 28/100\n",
      "11/11 [==============================] - 0s 16ms/step - loss: 0.0013 - mean_squared_error: 0.0013 - val_loss: 0.0050 - val_mean_squared_error: 0.0050\n",
      "Epoch 29/100\n",
      "11/11 [==============================] - 0s 15ms/step - loss: 0.0014 - mean_squared_error: 0.0014 - val_loss: 0.0050 - val_mean_squared_error: 0.0050\n",
      "Epoch 30/100\n",
      "11/11 [==============================] - 0s 15ms/step - loss: 0.0014 - mean_squared_error: 0.0014 - val_loss: 0.0050 - val_mean_squared_error: 0.0050\n",
      "Epoch 31/100\n",
      "11/11 [==============================] - 0s 16ms/step - loss: 0.0014 - mean_squared_error: 0.0014 - val_loss: 0.0050 - val_mean_squared_error: 0.0050\n",
      "Epoch 32/100\n",
      "11/11 [==============================] - 0s 16ms/step - loss: 0.0013 - mean_squared_error: 0.0013 - val_loss: 0.0050 - val_mean_squared_error: 0.0050\n",
      "Epoch 33/100\n",
      "11/11 [==============================] - 0s 16ms/step - loss: 0.0013 - mean_squared_error: 0.0013 - val_loss: 0.0050 - val_mean_squared_error: 0.0050\n",
      "Epoch 34/100\n",
      "11/11 [==============================] - 0s 16ms/step - loss: 0.0012 - mean_squared_error: 0.0012 - val_loss: 0.0051 - val_mean_squared_error: 0.0051\n",
      "Epoch 35/100\n",
      "11/11 [==============================] - 0s 15ms/step - loss: 0.0011 - mean_squared_error: 0.0011 - val_loss: 0.0050 - val_mean_squared_error: 0.0050\n",
      "Epoch 36/100\n",
      "11/11 [==============================] - 0s 15ms/step - loss: 0.0013 - mean_squared_error: 0.0013 - val_loss: 0.0050 - val_mean_squared_error: 0.0050\n",
      "Epoch 37/100\n",
      "11/11 [==============================] - 0s 16ms/step - loss: 0.0013 - mean_squared_error: 0.0013 - val_loss: 0.0050 - val_mean_squared_error: 0.0050\n",
      "Epoch 38/100\n",
      "11/11 [==============================] - 0s 16ms/step - loss: 0.0012 - mean_squared_error: 0.0012 - val_loss: 0.0050 - val_mean_squared_error: 0.0050\n",
      "Epoch 39/100\n",
      "11/11 [==============================] - 0s 16ms/step - loss: 0.0012 - mean_squared_error: 0.0012 - val_loss: 0.0053 - val_mean_squared_error: 0.0053\n",
      "Epoch 40/100\n",
      "11/11 [==============================] - 0s 16ms/step - loss: 0.0011 - mean_squared_error: 0.0011 - val_loss: 0.0050 - val_mean_squared_error: 0.0050\n",
      "Epoch 41/100\n",
      "11/11 [==============================] - 0s 16ms/step - loss: 0.0012 - mean_squared_error: 0.0012 - val_loss: 0.0050 - val_mean_squared_error: 0.0050\n",
      "Epoch 42/100\n",
      "11/11 [==============================] - 0s 16ms/step - loss: 0.0011 - mean_squared_error: 0.0011 - val_loss: 0.0050 - val_mean_squared_error: 0.0050\n",
      "Epoch 43/100\n",
      "11/11 [==============================] - 0s 16ms/step - loss: 0.0011 - mean_squared_error: 0.0011 - val_loss: 0.0050 - val_mean_squared_error: 0.0050\n",
      "Epoch 44/100\n",
      "11/11 [==============================] - 0s 18ms/step - loss: 0.0011 - mean_squared_error: 0.0011 - val_loss: 0.0050 - val_mean_squared_error: 0.0050\n",
      "Epoch 45/100\n",
      "11/11 [==============================] - 0s 16ms/step - loss: 0.0012 - mean_squared_error: 0.0012 - val_loss: 0.0049 - val_mean_squared_error: 0.0049\n",
      "Epoch 46/100\n",
      "11/11 [==============================] - 0s 16ms/step - loss: 0.0011 - mean_squared_error: 0.0011 - val_loss: 0.0050 - val_mean_squared_error: 0.0050\n",
      "Epoch 47/100\n",
      "11/11 [==============================] - 0s 15ms/step - loss: 0.0011 - mean_squared_error: 0.0011 - val_loss: 0.0051 - val_mean_squared_error: 0.0051\n",
      "Epoch 48/100\n",
      "11/11 [==============================] - 0s 16ms/step - loss: 0.0011 - mean_squared_error: 0.0011 - val_loss: 0.0050 - val_mean_squared_error: 0.0050\n",
      "Epoch 49/100\n",
      "11/11 [==============================] - 0s 16ms/step - loss: 0.0011 - mean_squared_error: 0.0011 - val_loss: 0.0049 - val_mean_squared_error: 0.0049\n",
      "Epoch 50/100\n",
      "11/11 [==============================] - 0s 16ms/step - loss: 0.0010 - mean_squared_error: 0.0010 - val_loss: 0.0051 - val_mean_squared_error: 0.0051\n",
      "Epoch 51/100\n",
      "11/11 [==============================] - 0s 17ms/step - loss: 0.0011 - mean_squared_error: 0.0011 - val_loss: 0.0051 - val_mean_squared_error: 0.0051\n",
      "Epoch 52/100\n",
      "11/11 [==============================] - 0s 16ms/step - loss: 0.0012 - mean_squared_error: 0.0012 - val_loss: 0.0051 - val_mean_squared_error: 0.0051\n",
      "Epoch 53/100\n",
      "11/11 [==============================] - 0s 18ms/step - loss: 0.0011 - mean_squared_error: 0.0011 - val_loss: 0.0050 - val_mean_squared_error: 0.0050\n",
      "Epoch 54/100\n",
      "11/11 [==============================] - 0s 16ms/step - loss: 0.0012 - mean_squared_error: 0.0012 - val_loss: 0.0052 - val_mean_squared_error: 0.0052\n",
      "Epoch 55/100\n",
      "11/11 [==============================] - 0s 16ms/step - loss: 0.0013 - mean_squared_error: 0.0013 - val_loss: 0.0051 - val_mean_squared_error: 0.0051\n",
      "Epoch 56/100\n",
      "11/11 [==============================] - 0s 15ms/step - loss: 0.0011 - mean_squared_error: 0.0011 - val_loss: 0.0049 - val_mean_squared_error: 0.0049\n",
      "Epoch 57/100\n",
      "11/11 [==============================] - 0s 15ms/step - loss: 9.5860e-04 - mean_squared_error: 9.5860e-04 - val_loss: 0.0048 - val_mean_squared_error: 0.0048\n",
      "Epoch 58/100\n",
      "11/11 [==============================] - 0s 15ms/step - loss: 0.0012 - mean_squared_error: 0.0012 - val_loss: 0.0050 - val_mean_squared_error: 0.0050\n",
      "Epoch 59/100\n",
      "11/11 [==============================] - 0s 15ms/step - loss: 0.0011 - mean_squared_error: 0.0011 - val_loss: 0.0051 - val_mean_squared_error: 0.0051\n",
      "Epoch 60/100\n",
      "11/11 [==============================] - 0s 15ms/step - loss: 0.0011 - mean_squared_error: 0.0011 - val_loss: 0.0049 - val_mean_squared_error: 0.0049\n",
      "Epoch 61/100\n",
      "11/11 [==============================] - 0s 16ms/step - loss: 0.0012 - mean_squared_error: 0.0012 - val_loss: 0.0049 - val_mean_squared_error: 0.0049\n",
      "Epoch 62/100\n",
      "11/11 [==============================] - 0s 16ms/step - loss: 0.0010 - mean_squared_error: 0.0010 - val_loss: 0.0048 - val_mean_squared_error: 0.0048\n",
      "Epoch 63/100\n",
      "11/11 [==============================] - 0s 17ms/step - loss: 0.0010 - mean_squared_error: 0.0010 - val_loss: 0.0049 - val_mean_squared_error: 0.0049\n",
      "Epoch 64/100\n",
      "11/11 [==============================] - 0s 16ms/step - loss: 0.0011 - mean_squared_error: 0.0011 - val_loss: 0.0049 - val_mean_squared_error: 0.0049\n",
      "Epoch 65/100\n",
      "11/11 [==============================] - 0s 17ms/step - loss: 0.0011 - mean_squared_error: 0.0011 - val_loss: 0.0048 - val_mean_squared_error: 0.0048\n",
      "Epoch 66/100\n",
      "11/11 [==============================] - 0s 15ms/step - loss: 8.9530e-04 - mean_squared_error: 8.9530e-04 - val_loss: 0.0049 - val_mean_squared_error: 0.0049\n",
      "Epoch 67/100\n",
      "11/11 [==============================] - 0s 15ms/step - loss: 0.0010 - mean_squared_error: 0.0010 - val_loss: 0.0048 - val_mean_squared_error: 0.0048\n",
      "Epoch 68/100\n",
      "11/11 [==============================] - 0s 16ms/step - loss: 9.8010e-04 - mean_squared_error: 9.8010e-04 - val_loss: 0.0048 - val_mean_squared_error: 0.0048\n",
      "Epoch 69/100\n",
      "11/11 [==============================] - 0s 16ms/step - loss: 0.0011 - mean_squared_error: 0.0011 - val_loss: 0.0050 - val_mean_squared_error: 0.0050\n",
      "Epoch 70/100\n",
      "11/11 [==============================] - 0s 15ms/step - loss: 0.0011 - mean_squared_error: 0.0011 - val_loss: 0.0050 - val_mean_squared_error: 0.0050\n",
      "Epoch 71/100\n",
      "11/11 [==============================] - 0s 17ms/step - loss: 0.0010 - mean_squared_error: 0.0010 - val_loss: 0.0048 - val_mean_squared_error: 0.0048\n",
      "Epoch 72/100\n",
      "11/11 [==============================] - 0s 16ms/step - loss: 9.9483e-04 - mean_squared_error: 9.9483e-04 - val_loss: 0.0048 - val_mean_squared_error: 0.0048\n",
      "Epoch 73/100\n",
      "11/11 [==============================] - 0s 17ms/step - loss: 9.8005e-04 - mean_squared_error: 9.8005e-04 - val_loss: 0.0048 - val_mean_squared_error: 0.0048\n",
      "Epoch 74/100\n",
      "11/11 [==============================] - 0s 17ms/step - loss: 0.0011 - mean_squared_error: 0.0011 - val_loss: 0.0050 - val_mean_squared_error: 0.0050\n",
      "Epoch 75/100\n",
      "11/11 [==============================] - 0s 16ms/step - loss: 9.6110e-04 - mean_squared_error: 9.6110e-04 - val_loss: 0.0048 - val_mean_squared_error: 0.0048\n",
      "Epoch 76/100\n",
      "11/11 [==============================] - 0s 16ms/step - loss: 0.0010 - mean_squared_error: 0.0010 - val_loss: 0.0051 - val_mean_squared_error: 0.0051\n",
      "Epoch 77/100\n",
      "11/11 [==============================] - 0s 16ms/step - loss: 0.0010 - mean_squared_error: 0.0010 - val_loss: 0.0050 - val_mean_squared_error: 0.0050\n",
      "Epoch 78/100\n",
      "11/11 [==============================] - 0s 18ms/step - loss: 0.0011 - mean_squared_error: 0.0011 - val_loss: 0.0050 - val_mean_squared_error: 0.0050\n",
      "Epoch 79/100\n",
      "11/11 [==============================] - 0s 16ms/step - loss: 0.0010 - mean_squared_error: 0.0010 - val_loss: 0.0048 - val_mean_squared_error: 0.0048\n",
      "Epoch 80/100\n",
      "11/11 [==============================] - 0s 17ms/step - loss: 0.0010 - mean_squared_error: 0.0010 - val_loss: 0.0048 - val_mean_squared_error: 0.0048\n",
      "Epoch 81/100\n",
      "11/11 [==============================] - 0s 16ms/step - loss: 0.0010 - mean_squared_error: 0.0010 - val_loss: 0.0048 - val_mean_squared_error: 0.0048\n",
      "Epoch 82/100\n",
      "11/11 [==============================] - 0s 19ms/step - loss: 9.7344e-04 - mean_squared_error: 9.7344e-04 - val_loss: 0.0049 - val_mean_squared_error: 0.0049\n",
      "Epoch 83/100\n",
      "11/11 [==============================] - 0s 21ms/step - loss: 9.9440e-04 - mean_squared_error: 9.9440e-04 - val_loss: 0.0048 - val_mean_squared_error: 0.0048\n",
      "Epoch 84/100\n",
      "11/11 [==============================] - 0s 20ms/step - loss: 9.5714e-04 - mean_squared_error: 9.5714e-04 - val_loss: 0.0048 - val_mean_squared_error: 0.0048\n",
      "Epoch 85/100\n",
      "11/11 [==============================] - 0s 22ms/step - loss: 9.9489e-04 - mean_squared_error: 9.9489e-04 - val_loss: 0.0048 - val_mean_squared_error: 0.0048\n",
      "Epoch 86/100\n",
      "11/11 [==============================] - 0s 19ms/step - loss: 9.5598e-04 - mean_squared_error: 9.5598e-04 - val_loss: 0.0047 - val_mean_squared_error: 0.0047\n",
      "Epoch 87/100\n",
      "11/11 [==============================] - 0s 17ms/step - loss: 9.6542e-04 - mean_squared_error: 9.6542e-04 - val_loss: 0.0050 - val_mean_squared_error: 0.0050\n",
      "Epoch 88/100\n",
      "11/11 [==============================] - 0s 19ms/step - loss: 0.0010 - mean_squared_error: 0.0010 - val_loss: 0.0049 - val_mean_squared_error: 0.0049\n",
      "Epoch 89/100\n",
      "11/11 [==============================] - 0s 18ms/step - loss: 9.8579e-04 - mean_squared_error: 9.8579e-04 - val_loss: 0.0052 - val_mean_squared_error: 0.0052\n",
      "Epoch 90/100\n",
      "11/11 [==============================] - 0s 17ms/step - loss: 0.0011 - mean_squared_error: 0.0011 - val_loss: 0.0048 - val_mean_squared_error: 0.0048\n",
      "Epoch 91/100\n",
      "11/11 [==============================] - 0s 17ms/step - loss: 0.0010 - mean_squared_error: 0.0010 - val_loss: 0.0049 - val_mean_squared_error: 0.0049\n",
      "Epoch 92/100\n",
      "11/11 [==============================] - 0s 16ms/step - loss: 0.0011 - mean_squared_error: 0.0011 - val_loss: 0.0051 - val_mean_squared_error: 0.0051\n",
      "Epoch 93/100\n",
      "11/11 [==============================] - 0s 16ms/step - loss: 0.0011 - mean_squared_error: 0.0011 - val_loss: 0.0048 - val_mean_squared_error: 0.0048\n",
      "Epoch 94/100\n",
      "11/11 [==============================] - 0s 16ms/step - loss: 9.8388e-04 - mean_squared_error: 9.8388e-04 - val_loss: 0.0048 - val_mean_squared_error: 0.0048\n",
      "Epoch 95/100\n",
      "11/11 [==============================] - 0s 15ms/step - loss: 0.0010 - mean_squared_error: 0.0010 - val_loss: 0.0047 - val_mean_squared_error: 0.0047\n",
      "Epoch 96/100\n",
      "11/11 [==============================] - 0s 18ms/step - loss: 9.3243e-04 - mean_squared_error: 9.3243e-04 - val_loss: 0.0047 - val_mean_squared_error: 0.0047\n",
      "Epoch 97/100\n",
      "11/11 [==============================] - 0s 15ms/step - loss: 0.0010 - mean_squared_error: 0.0010 - val_loss: 0.0048 - val_mean_squared_error: 0.0048\n",
      "Epoch 98/100\n",
      "11/11 [==============================] - 0s 15ms/step - loss: 8.9597e-04 - mean_squared_error: 8.9597e-04 - val_loss: 0.0049 - val_mean_squared_error: 0.0049\n",
      "Epoch 99/100\n",
      "11/11 [==============================] - 0s 15ms/step - loss: 0.0010 - mean_squared_error: 0.0010 - val_loss: 0.0048 - val_mean_squared_error: 0.0048\n",
      "Epoch 100/100\n",
      "11/11 [==============================] - 0s 15ms/step - loss: 0.0010 - mean_squared_error: 0.0010 - val_loss: 0.0047 - val_mean_squared_error: 0.0047\n"
     ]
    }
   ],
   "source": [
    "# First GRU layer\n",
    "model.add(layers.GRU(units=100, return_sequences=True, input_shape=(1,n_features), activation='tanh'))\n",
    "model.add(layers.Dropout(0.2))\n",
    "\n",
    "# Second GRU layer\n",
    "model.add(layers.GRU(units=150, return_sequences=True, input_shape=(1,n_features), activation='tanh'))\n",
    "model.add(layers.Dropout(0.2))\n",
    "\n",
    "# Third GRU layer\n",
    "model.add(layers.GRU(units=100, activation='tanh'))\n",
    "model.add(layers.Dropout(0.2))\n",
    "\n",
    "# The output layer\n",
    "model.add(layers.Dense(units=1, kernel_initializer='he_uniform', activation='linear'))\n",
    "\n",
    "model.compile(loss='mean_squared_error', optimizer=Adam(lr = 0.0005) , metrics = ['mean_squared_error'])\n",
    "\n",
    "print(model.summary())\n",
    "\n",
    "\n",
    "history = model.fit(trainX,trainY,epochs=100,batch_size=128, verbose=1, validation_data = (valX,valY))"
   ]
  },
  {
   "cell_type": "code",
   "execution_count": 39,
   "id": "e3812de5",
   "metadata": {
    "execution": {
     "iopub.execute_input": "2024-02-11T19:20:26.885974Z",
     "iopub.status.busy": "2024-02-11T19:20:26.883505Z",
     "iopub.status.idle": "2024-02-11T19:20:27.341832Z",
     "shell.execute_reply": "2024-02-11T19:20:27.340595Z"
    },
    "papermill": {
     "duration": 0.532139,
     "end_time": "2024-02-11T19:20:27.344589",
     "exception": false,
     "start_time": "2024-02-11T19:20:26.812450",
     "status": "completed"
    },
    "tags": []
   },
   "outputs": [
    {
     "name": "stdout",
     "output_type": "stream",
     "text": [
      "Train Score:\n",
      "MSE: 0.00020 , RMSE: 0.01\n",
      "Validation Score:\n",
      "MSE: 0.00472 , RMSE: 0.07\n",
      "Test Score\n",
      "MSE: 0.00442 , RMSE: 0.07\n"
     ]
    }
   ],
   "source": [
    "import math\n",
    "\n",
    "def model_score(model, X_train, y_train, X_val, y_val , X_test, y_test):\n",
    "    print('Train Score:')\n",
    "    train_score = model.evaluate(X_train, y_train, verbose=0)\n",
    "    print(\"MSE: {:.5f} , RMSE: {:.2f}\".format(train_score[0], math.sqrt(train_score[0])))\n",
    "\n",
    "    print('Validation Score:')\n",
    "    val_score = model.evaluate(X_val, y_val, verbose=0)\n",
    "    print(\"MSE: {:.5f} , RMSE: {:.2f}\".format (val_score[0], math.sqrt(val_score[0])))\n",
    "\n",
    "    print('Test Score')\n",
    "    X_test_reshaped = X_test.reshape((X_test.shape[0], 1, X_test.shape[1]))\n",
    "    test_score = model.evaluate(X_test_reshaped, y_test, verbose=0)\n",
    "    print(\"MSE: {:.5f} , RMSE: {:.2f}\".format(test_score[0], math.sqrt(test_score[0])))\n",
    "\n",
    "\n",
    "model_score(model, trainX, trainY ,valX, valY , testX, testY)"
   ]
  },
  {
   "cell_type": "code",
   "execution_count": 40,
   "id": "febeae37",
   "metadata": {
    "execution": {
     "iopub.execute_input": "2024-02-11T19:20:27.489143Z",
     "iopub.status.busy": "2024-02-11T19:20:27.488728Z",
     "iopub.status.idle": "2024-02-11T19:20:27.495208Z",
     "shell.execute_reply": "2024-02-11T19:20:27.493874Z"
    },
    "papermill": {
     "duration": 0.079866,
     "end_time": "2024-02-11T19:20:27.497717",
     "exception": false,
     "start_time": "2024-02-11T19:20:27.417851",
     "status": "completed"
    },
    "tags": []
   },
   "outputs": [
    {
     "name": "stdout",
     "output_type": "stream",
     "text": [
      "dict_keys(['loss', 'mean_squared_error', 'val_loss', 'val_mean_squared_error'])\n"
     ]
    }
   ],
   "source": [
    "print(history.history.keys())"
   ]
  },
  {
   "cell_type": "code",
   "execution_count": 41,
   "id": "62aadbaa",
   "metadata": {
    "execution": {
     "iopub.execute_input": "2024-02-11T19:20:27.640120Z",
     "iopub.status.busy": "2024-02-11T19:20:27.639623Z",
     "iopub.status.idle": "2024-02-11T19:20:27.903370Z",
     "shell.execute_reply": "2024-02-11T19:20:27.901867Z"
    },
    "papermill": {
     "duration": 0.341347,
     "end_time": "2024-02-11T19:20:27.906532",
     "exception": false,
     "start_time": "2024-02-11T19:20:27.565185",
     "status": "completed"
    },
    "tags": []
   },
   "outputs": [
    {
     "data": {
      "image/png": "[encoded data removed]",
      "text/plain": [
       "<Figure size 640x480 with 1 Axes>"
      ]
     },
     "metadata": {},
     "output_type": "display_data"
    }
   ],
   "source": [
    "plt.plot(history.history['loss'])  # plotting train loss\n",
    "plt.plot(history.history['val_loss'])  # plotting validation loss\n",
    "\n",
    "plt.title('model loss')\n",
    "plt.ylabel('loss')\n",
    "plt.xlabel('epoch')\n",
    "plt.legend(['train', 'val'], loc='upper left')\n",
    "plt.show()"
   ]
  },
  {
   "cell_type": "code",
   "execution_count": 42,
   "id": "cb4440b0",
   "metadata": {
    "execution": {
     "iopub.execute_input": "2024-02-11T19:20:28.050488Z",
     "iopub.status.busy": "2024-02-11T19:20:28.050099Z",
     "iopub.status.idle": "2024-02-11T19:20:29.672346Z",
     "shell.execute_reply": "2024-02-11T19:20:29.670554Z"
    },
    "papermill": {
     "duration": 1.700292,
     "end_time": "2024-02-11T19:20:29.675188",
     "exception": false,
     "start_time": "2024-02-11T19:20:27.974896",
     "status": "completed"
    },
    "tags": []
   },
   "outputs": [
    {
     "name": "stdout",
     "output_type": "stream",
     "text": [
      "6/6 [==============================] - 1s 4ms/step\n",
      "[[37.525   ]\n",
      " [37.292778]\n",
      " [37.13225 ]\n",
      " [36.984035]\n",
      " [36.684483]\n",
      " [36.58022 ]\n",
      " [36.534668]\n",
      " [36.151825]\n",
      " [35.984272]\n",
      " [36.6343  ]]\n",
      "[[37.23]\n",
      " [37.11]\n",
      " [36.95]\n",
      " [36.59]\n",
      " [36.6 ]\n",
      " [36.53]\n",
      " [36.01]\n",
      " [36.  ]\n",
      " [36.94]\n",
      " [37.23]]\n"
     ]
    },
    {
     "data": {
      "image/png": "[encoded data removed]",
      "text/plain": [
       "<Figure size 640x480 with 1 Axes>"
      ]
     },
     "metadata": {},
     "output_type": "display_data"
    }
   ],
   "source": [
    "pred = model.predict(testX.reshape((testX.shape[0], 1, testX.shape[1])))\n",
    "pred = scaler.inverse_transform(pred)\n",
    "print(pred[:10])\n",
    "\n",
    "testY_actual = testY.reshape(testY.shape[0] , 1)\n",
    "testY_actual = scaler.inverse_transform(testY_actual)\n",
    "print(testY_actual[:10])\n",
    "\n",
    "plt.plot(testY_actual , 'b')\n",
    "plt.plot(pred , 'r')\n",
    "\n",
    "plt.xlabel('Time')\n",
    "plt.ylabel('Stock Prices')\n",
    "plt.title('Check the performance of the model with time')\n",
    "plt.legend(['Actual', 'Predicted'], loc='upper left')\n",
    "\n",
    "plt.grid(True)\n",
    "plt.show()"
   ]
  },
  {
   "cell_type": "code",
   "execution_count": null,
   "id": "7ebc3bb7",
   "metadata": {
    "papermill": {
     "duration": 0.072886,
     "end_time": "2024-02-11T19:20:29.818006",
     "exception": false,
     "start_time": "2024-02-11T19:20:29.745120",
     "status": "completed"
    },
    "tags": []
   },
   "outputs": [],
   "source": []
  }
 ],
 "metadata": {
  "kaggle": {
   "accelerator": "none",
   "dataSources": [
    {
     "datasetId": 854,
     "sourceId": 1575,
     "sourceType": "datasetVersion"
    }
   ],
   "dockerImageVersionId": 30646,
   "isGpuEnabled": false,
   "isInternetEnabled": true,
   "language": "python",
   "sourceType": "notebook"
  },
  "kernelspec": {
   "display_name": "Python 3",
   "language": "python",
   "name": "python3"
  },
  "language_info": {
   "codemirror_mode": {
    "name": "ipython",
    "version": 3
   },
   "file_extension": ".py",
   "mimetype": "text/x-python",
   "name": "python",
   "nbconvert_exporter": "python",
   "pygments_lexer": "ipython3",
   "version": "3.10.13"
  },
  "papermill": {
   "default_parameters": {},
   "duration": 58.212235,
   "end_time": "2024-02-11T19:20:32.119154",
   "environment_variables": {},
   "exception": null,
   "input_path": "__notebook__.ipynb",
   "output_path": "__notebook__.ipynb",
   "parameters": {},
   "start_time": "2024-02-11T19:19:33.906919",
   "version": "2.5.0"
  }
 },
 "nbformat": 4,
 "nbformat_minor": 5
}
